{
 "cells": [
  {
   "cell_type": "markdown",
   "id": "7ad0d115",
   "metadata": {},
   "source": [
    "## 1) To what does a relative path refer?\n"
   ]
  },
  {
   "cell_type": "markdown",
   "id": "879fd8cf",
   "metadata": {},
   "source": [
    "A relative path refers to a file or directory location that is described in relation to the current working directory or another known location. Instead of providing the complete or absolute path starting from the root directory, a relative path specifies the path starting from the current directory or a specified starting point.\n",
    "\n",
    "For example, let's say we have the following file structure:\n",
    "\n",
    "- /home\n",
    "   - user\n",
    "     - documents\n",
    "       - file.txt\n",
    "   - project\n",
    "     - script.py\n",
    "     \n",
    "If our current working directory is /home/user, and we want to reference the file file.txt from the script.py file located in the project directory, we can use a relative path. In this case, the relative path to file.txt from the script.py file would be \"../documents/file.txt\". The \"..\" indicates going up one level in the directory structure to reach the user directory, and then descending into the documents directory to find the file.txt file."
   ]
  },
  {
   "cell_type": "markdown",
   "id": "5959bfc3",
   "metadata": {},
   "source": [
    "## 2) What does an absolute path start with your operating system?"
   ]
  },
  {
   "cell_type": "markdown",
   "id": "3f79eb54",
   "metadata": {},
   "source": [
    "The start of an absolute path in an operating system depends on the specific operating system being used. Here are the conventions for some common operating systems:\n",
    "\n",
    "Windows: Absolute paths in Windows start with a drive letter followed by a colon (:), such as C: or D:. For example, C:\\Users\\Username\\Documents\\file.txt is an absolute path on Windows, where C: is the drive letter.\n",
    "\n",
    "Linux and macOS: Absolute paths in Linux and macOS start with a forward slash (/). For example, /home/username/Documents/file.txt is an absolute path on Linux or macOS, where / represents the root directory.\n",
    "\n",
    "It's important to note that the syntax and conventions for absolute paths may vary slightly depending on the operating system and file system being used."
   ]
  },
  {
   "cell_type": "markdown",
   "id": "e2778a75",
   "metadata": {},
   "source": [
    "## 3) What do the functions os.getcwd() and os.chdir() do?"
   ]
  },
  {
   "cell_type": "markdown",
   "id": "c9fb19c3",
   "metadata": {},
   "source": [
    "The functions os.getcwd() and os.chdir() are part of the os module in Python, which provides a way to interact with the operating system. Here's what these functions do:\n",
    "\n",
    "os.getcwd(): This function stands for \"get current working directory.\" It returns a string representing the current working directory of the Python script or the process that is running. The working directory is the directory in which the script or program is currently executing. By calling os.getcwd(), you can obtain the absolute path of the current working directory.\n",
    "\n",
    "Example usage:\n",
    "\n",
    "import os\n",
    "current_dir = os.getcwd()\n",
    "print(current_dir)\n",
    "\n",
    "os.chdir(path): This function stands for \"change directory.\" It allows us to change the current working directory to the specified path. The path parameter should be a string representing the directory path you want to navigate to. The path can be either absolute or relative to the current working directory.\n",
    "\n",
    "Example usage:\n",
    "\n",
    "import os\n",
    "os.chdir('/home/username/Documents')  # Changing to an absolute path\n",
    "os.chdir('..')  # Changing to a relative path (going up one level)\n",
    "\n",
    "After calling os.chdir(), the current working directory will be updated to the specified path, allowing us to access files or directories relative to the new working directory."
   ]
  },
  {
   "cell_type": "markdown",
   "id": "18dcd6f5",
   "metadata": {},
   "source": [
    "## 4) What are the . and .. folders?"
   ]
  },
  {
   "cell_type": "markdown",
   "id": "1f6e8358",
   "metadata": {},
   "source": [
    "In file systems, the . and .. folders are special directory entries that have specific meanings:\n",
    "\n",
    ". (dot): The dot represents the current directory. It is used to refer to the directory itself. When we see . in a file path, it indicates the current working directory. For example, if we are in the /home/user/documents directory, the path ./file.txt refers to the file file.txt in the current directory.\n",
    "\n",
    ".. (dot dot): The dot dot represents the parent directory. It is used to refer to the directory immediately above the current directory. When we see .. in a file path, it indicates moving up one level in the directory hierarchy. For example, if we are in the /home/user/documents directory, the path ../file.txt refers to the file file.txt in the parent directory (/home/user)."
   ]
  },
  {
   "cell_type": "markdown",
   "id": "c7123ffb",
   "metadata": {},
   "source": [
    "## 5) In C:\\bacon\\eggs\\spam.txt, which part is the dir name, and which part is the base name?"
   ]
  },
  {
   "cell_type": "markdown",
   "id": "fa16c1e2",
   "metadata": {},
   "source": [
    "In the file path \"C:\\bacon\\eggs\\spam.txt,\" the directory name and the base name can be identified as follows:\n",
    "\n",
    "Directory Name: \"C:\\bacon\\eggs\"\n",
    "\n",
    "This portion represents the directory or folder path where the file \"spam.txt\" is located. It specifies the hierarchy of directories leading to the file.\n",
    "In this case, the directory name is \"C:\\bacon\\eggs.\"\n",
    "\n",
    "Base Name: \"spam.txt\"\n",
    "\n",
    "This part represents the actual file name, including the extension. It identifies the specific file within the given directory.\n",
    "In this case, the base name is \"spam.txt.\""
   ]
  },
  {
   "cell_type": "markdown",
   "id": "be766863",
   "metadata": {},
   "source": [
    "## 6) What are the three “mode” arguments that can be passed to the open() function?"
   ]
  },
  {
   "cell_type": "markdown",
   "id": "6c35f677",
   "metadata": {},
   "source": [
    "The open() function in Python accepts the following three \"mode\" arguments as a string to specify the purpose and permissions when opening a file:\n",
    "\n",
    "Read mode: Denoted by the character 'r', this mode is used when we want to open a file for reading its contents. It is the default mode if no mode is specified. With read mode, we can read the existing contents of the file but cannot modify or write to it.\n",
    "\n",
    "Example: open('file.txt', 'r')\n",
    "\n",
    "Write mode: Denoted by the character 'w', this mode is used when we want to open a file for writing new contents. If the file already exists, it will be truncated (emptied) before writing new data to it. If the file doesn't exist, a new file will be created. Use write mode with caution, as it can potentially overwrite existing data.\n",
    "\n",
    "Example: open('file.txt', 'w')\n",
    "\n",
    "Append mode: Denoted by the character 'a', this mode is used when we want to open a file for appending new contents at the end of the file. If the file already exists, the new data will be added to the existing contents. If the file doesn't exist, a new file will be created. Append mode allows us to add data to the file without erasing its previous contents.\n",
    "\n",
    "Example: open('file.txt', 'a')\n",
    "\n",
    "These modes can also be combined with additional characters to specify additional behaviors. For example, we can use 'r+' to open a file in read and write mode, allowing both reading from and writing to the file."
   ]
  },
  {
   "cell_type": "markdown",
   "id": "48a0d214",
   "metadata": {},
   "source": [
    "## 7) What happens if an existing file is opened in write mode?"
   ]
  },
  {
   "cell_type": "markdown",
   "id": "f3400b59",
   "metadata": {},
   "source": [
    "If an existing file is opened in write mode ('w'), the following consequences occur:\n",
    "\n",
    "The file is truncated: When we open a file in write mode, the existing contents of the file are completely removed or truncated. The file becomes empty, and any previous data in it is lost.\n",
    "\n",
    "New data is written: After the file is truncated, we can write new data to it using the file object returned by open(). Any write operations performed on the file will overwrite the previous contents.\n",
    "\n",
    "If the file doesn't exist, a new file is created: If the file specified in the write mode doesn't exist, Python creates a new file with the specified name. The new file is then opened for writing, and we can write data to it."
   ]
  },
  {
   "cell_type": "markdown",
   "id": "0b087cd8",
   "metadata": {},
   "source": [
    "## 8) How do you tell the difference between read() and readlines()?"
   ]
  },
  {
   "cell_type": "markdown",
   "id": "f6d2a7e3",
   "metadata": {},
   "source": [
    "In Python, the read() and readlines() methods are used to read data from a file, but they differ in how they handle the data and return the results:\n",
    "\n",
    "read(): The read() method is used to read the entire content of a file as a single string. It reads from the current file position up to the end of the file or up to the specified number of characters if an argument is provided. The returned string includes newline characters ('\\n') representing line breaks.\n",
    "\n",
    "Example:\n",
    "\n",
    "file = open('file.txt', 'r')\n",
    "content = file.read()  # Reads the entire content of the file\n",
    "print(content)\n",
    "file.close()\n",
    "\n",
    "The read() method returns a string with the complete content of the file.\n",
    "\n",
    "readlines(): The readlines() method is used to read the lines of a file and returns them as a list of strings. Each string in the list represents a line from the file, including the newline character at the end of each line. If the file is empty, an empty list is returned.\n",
    "\n",
    "Example:\n",
    "\n",
    "file = open('file.txt', 'r')\n",
    "lines = file.readlines()  # Reads the lines of the file\n",
    "for line in lines:\n",
    "    print(line)\n",
    "file.close()\n",
    "\n",
    "The readlines() method returns a list of strings, where each string represents a line of the file."
   ]
  },
  {
   "cell_type": "markdown",
   "id": "64188a6f",
   "metadata": {},
   "source": [
    "## 9) What data structure does a shelf value resemble?"
   ]
  },
  {
   "cell_type": "markdown",
   "id": "5bfdee02",
   "metadata": {},
   "source": [
    "In Python, the shelf module provides a built-in dictionary-like object called shelf. A shelf value resembles a dictionary data structure in terms of its functionality and usage.\n",
    "\n",
    "A shelf value is a persistent, dictionary-like object that stores its contents in a disk file. It is designed for storing and retrieving Python objects in a key-value format. The shelf module uses the pickle module internally to serialize and deserialize the objects, allowing them to be stored and retrieved from the disk.\n",
    "\n",
    "Similar to dictionaries, a shelf value allows you to:\n",
    "\n",
    "Store and retrieve data using keys: Assign values to keys and later access those values by providing the corresponding keys.\n",
    "\n",
    "Manipulate the data: Add, update, or delete key-value pairs in the shelf.\n",
    "\n",
    "Iterate over the keys or values: Iterate over the keys or values stored in the shelf using loops or built-in methods.\n",
    "\n",
    "However, unlike dictionaries, shelf values are persistent, meaning they retain their data even after the program terminates. The data is stored in a file on disk, and the shelf object provides an interface to access and modify the stored data."
   ]
  }
 ],
 "metadata": {
  "kernelspec": {
   "display_name": "Python 3 (ipykernel)",
   "language": "python",
   "name": "python3"
  },
  "language_info": {
   "codemirror_mode": {
    "name": "ipython",
    "version": 3
   },
   "file_extension": ".py",
   "mimetype": "text/x-python",
   "name": "python",
   "nbconvert_exporter": "python",
   "pygments_lexer": "ipython3",
   "version": "3.9.13"
  }
 },
 "nbformat": 4,
 "nbformat_minor": 5
}
